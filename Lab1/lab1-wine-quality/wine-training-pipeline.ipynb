{
 "cells": [
  {
   "cell_type": "markdown",
   "metadata": {},
   "source": [
    "# Code to read data with feature view from Hopsworks, trains a model to predict wine quality and uploads the model to Hopsworks"
   ]
  },
  {
   "cell_type": "code",
   "execution_count": 1,
   "metadata": {},
   "outputs": [
    {
     "name": "stderr",
     "output_type": "stream",
     "text": [
      "/Users/gardaasness/anaconda3/envs/scalableML/lib/python3.10/site-packages/tqdm/auto.py:21: TqdmWarning: IProgress not found. Please update jupyter and ipywidgets. See https://ipywidgets.readthedocs.io/en/stable/user_install.html\n",
      "  from .autonotebook import tqdm as notebook_tqdm\n"
     ]
    }
   ],
   "source": [
    "import hopsworks\n",
    "import pandas as pd\n",
    "from sklearn.neighbors import KNeighborsClassifier\n",
    "from sklearn.ensemble import RandomForestClassifier\n",
    "from sklearn.metrics import accuracy_score\n",
    "from sklearn.metrics import confusion_matrix\n",
    "from sklearn.metrics import classification_report\n",
    "from sklearn.linear_model import LinearRegression\n",
    "from sklearn import tree\n",
    "import seaborn as sns\n",
    "from matplotlib import pyplot\n",
    "from hsml.schema import Schema\n",
    "from hsml.model_schema import ModelSchema\n",
    "import joblib\n",
    "import os"
   ]
  },
  {
   "cell_type": "code",
   "execution_count": 2,
   "metadata": {},
   "outputs": [
    {
     "name": "stdout",
     "output_type": "stream",
     "text": [
      "Connected. Call `.close()` to terminate connection gracefully.\n",
      "\n",
      "Logged in to project, explore it here https://c.app.hopsworks.ai:443/p/193689\n",
      "Connected. Call `.close()` to terminate connection gracefully.\n"
     ]
    }
   ],
   "source": [
    "# Log in to Hopsworks and get feature store\n",
    "project = hopsworks.login()\n",
    "fs = project.get_feature_store()"
   ]
  },
  {
   "cell_type": "code",
   "execution_count": 3,
   "metadata": {},
   "outputs": [],
   "source": [
    "# Extract the feature view from Hopsworks, which is the input set of features to the model\n",
    "wine_fg = fs.get_feature_group(name=\"wine\", version=1)\n",
    "query = wine_fg.select_all()\n",
    "feature_view = fs.get_or_create_feature_view(\n",
    "    name=\"wine\", \n",
    "    version=1,\n",
    "    description=\"Read from Wine dataset\",\n",
    "    labels=[\"quality\"],\n",
    "    query=query\n",
    ")"
   ]
  },
  {
   "cell_type": "code",
   "execution_count": 4,
   "metadata": {},
   "outputs": [
    {
     "name": "stdout",
     "output_type": "stream",
     "text": [
      "Finished: Reading data from Hopsworks, using ArrowFlight (1.64s) \n"
     ]
    },
    {
     "name": "stderr",
     "output_type": "stream",
     "text": [
      "VersionWarning: Incremented version to `15`.\n"
     ]
    },
    {
     "name": "stdout",
     "output_type": "stream",
     "text": [
      "KNeighborsClassifier(n_neighbors=2) 0.39737582005623245\n",
      "LinearRegression() 0.3432671134011901\n",
      "DecisionTreeClassifier() 0.4676663542642924\n",
      "RandomForestClassifier() 0.5773195876288659\n",
      "Best model: RandomForestClassifier()\n"
     ]
    },
    {
     "data": {
      "text/html": [
       "<style>#sk-container-id-1 {color: black;background-color: white;}#sk-container-id-1 pre{padding: 0;}#sk-container-id-1 div.sk-toggleable {background-color: white;}#sk-container-id-1 label.sk-toggleable__label {cursor: pointer;display: block;width: 100%;margin-bottom: 0;padding: 0.3em;box-sizing: border-box;text-align: center;}#sk-container-id-1 label.sk-toggleable__label-arrow:before {content: \"▸\";float: left;margin-right: 0.25em;color: #696969;}#sk-container-id-1 label.sk-toggleable__label-arrow:hover:before {color: black;}#sk-container-id-1 div.sk-estimator:hover label.sk-toggleable__label-arrow:before {color: black;}#sk-container-id-1 div.sk-toggleable__content {max-height: 0;max-width: 0;overflow: hidden;text-align: left;background-color: #f0f8ff;}#sk-container-id-1 div.sk-toggleable__content pre {margin: 0.2em;color: black;border-radius: 0.25em;background-color: #f0f8ff;}#sk-container-id-1 input.sk-toggleable__control:checked~div.sk-toggleable__content {max-height: 200px;max-width: 100%;overflow: auto;}#sk-container-id-1 input.sk-toggleable__control:checked~label.sk-toggleable__label-arrow:before {content: \"▾\";}#sk-container-id-1 div.sk-estimator input.sk-toggleable__control:checked~label.sk-toggleable__label {background-color: #d4ebff;}#sk-container-id-1 div.sk-label input.sk-toggleable__control:checked~label.sk-toggleable__label {background-color: #d4ebff;}#sk-container-id-1 input.sk-hidden--visually {border: 0;clip: rect(1px 1px 1px 1px);clip: rect(1px, 1px, 1px, 1px);height: 1px;margin: -1px;overflow: hidden;padding: 0;position: absolute;width: 1px;}#sk-container-id-1 div.sk-estimator {font-family: monospace;background-color: #f0f8ff;border: 1px dotted black;border-radius: 0.25em;box-sizing: border-box;margin-bottom: 0.5em;}#sk-container-id-1 div.sk-estimator:hover {background-color: #d4ebff;}#sk-container-id-1 div.sk-parallel-item::after {content: \"\";width: 100%;border-bottom: 1px solid gray;flex-grow: 1;}#sk-container-id-1 div.sk-label:hover label.sk-toggleable__label {background-color: #d4ebff;}#sk-container-id-1 div.sk-serial::before {content: \"\";position: absolute;border-left: 1px solid gray;box-sizing: border-box;top: 0;bottom: 0;left: 50%;z-index: 0;}#sk-container-id-1 div.sk-serial {display: flex;flex-direction: column;align-items: center;background-color: white;padding-right: 0.2em;padding-left: 0.2em;position: relative;}#sk-container-id-1 div.sk-item {position: relative;z-index: 1;}#sk-container-id-1 div.sk-parallel {display: flex;align-items: stretch;justify-content: center;background-color: white;position: relative;}#sk-container-id-1 div.sk-item::before, #sk-container-id-1 div.sk-parallel-item::before {content: \"\";position: absolute;border-left: 1px solid gray;box-sizing: border-box;top: 0;bottom: 0;left: 50%;z-index: -1;}#sk-container-id-1 div.sk-parallel-item {display: flex;flex-direction: column;z-index: 1;position: relative;background-color: white;}#sk-container-id-1 div.sk-parallel-item:first-child::after {align-self: flex-end;width: 50%;}#sk-container-id-1 div.sk-parallel-item:last-child::after {align-self: flex-start;width: 50%;}#sk-container-id-1 div.sk-parallel-item:only-child::after {width: 0;}#sk-container-id-1 div.sk-dashed-wrapped {border: 1px dashed gray;margin: 0 0.4em 0.5em 0.4em;box-sizing: border-box;padding-bottom: 0.4em;background-color: white;}#sk-container-id-1 div.sk-label label {font-family: monospace;font-weight: bold;display: inline-block;line-height: 1.2em;}#sk-container-id-1 div.sk-label-container {text-align: center;}#sk-container-id-1 div.sk-container {/* jupyter's `normalize.less` sets `[hidden] { display: none; }` but bootstrap.min.css set `[hidden] { display: none !important; }` so we also need the `!important` here to be able to override the default hidden behavior on the sphinx rendered scikit-learn.org. See: https://github.com/scikit-learn/scikit-learn/issues/21755 */display: inline-block !important;position: relative;}#sk-container-id-1 div.sk-text-repr-fallback {display: none;}</style><div id=\"sk-container-id-1\" class=\"sk-top-container\"><div class=\"sk-text-repr-fallback\"><pre>RandomForestClassifier(random_state=42)</pre><b>In a Jupyter environment, please rerun this cell to show the HTML representation or trust the notebook. <br />On GitHub, the HTML representation is unable to render, please try loading this page with nbviewer.org.</b></div><div class=\"sk-container\" hidden><div class=\"sk-item\"><div class=\"sk-estimator sk-toggleable\"><input class=\"sk-toggleable__control sk-hidden--visually\" id=\"sk-estimator-id-1\" type=\"checkbox\" checked><label for=\"sk-estimator-id-1\" class=\"sk-toggleable__label sk-toggleable__label-arrow\">RandomForestClassifier</label><div class=\"sk-toggleable__content\"><pre>RandomForestClassifier(random_state=42)</pre></div></div></div></div></div>"
      ],
      "text/plain": [
       "RandomForestClassifier(random_state=42)"
      ]
     },
     "execution_count": 4,
     "metadata": {},
     "output_type": "execute_result"
    }
   ],
   "source": [
    "# Randomly split the training data into train/test sets of features X and labels y (test size -> 0.2=20%)\n",
    "X_train, X_test, y_train, y_test = feature_view.train_test_split(0.2)\n",
    "\n",
    "# Let's find out what model fits our data the best\n",
    "trainingModels = [\n",
    "    KNeighborsClassifier(n_neighbors=2),\n",
    "    LinearRegression(),\n",
    "    tree.DecisionTreeClassifier(),\n",
    "    RandomForestClassifier(n_estimators=100),\n",
    "]\n",
    "\n",
    "scoreArray = [0]*len(trainingModels)\n",
    "\n",
    "for i, m in enumerate(trainingModels):\n",
    "    m = m.fit(X_train, y_train.values.ravel())\n",
    "    score = m.score(X_test, y_test)\n",
    "    scoreArray[i] += score\n",
    "    print(m, score)\n",
    "\n",
    "# Best model for our data turns out to be the RandomForest classifier model\n",
    "print(\"Best model:\", trainingModels[scoreArray.index(max(scoreArray))])\n",
    "\n",
    "# Train the model with the random forest algorithm (Scikit-learn)\n",
    "model_rf = RandomForestClassifier(n_estimators=100, random_state=42)\n",
    "model_rf.fit(X_train, y_train.values.ravel())"
   ]
  },
  {
   "cell_type": "code",
   "execution_count": 5,
   "metadata": {},
   "outputs": [
    {
     "data": {
      "text/html": [
       "<style>#sk-container-id-2 {color: black;background-color: white;}#sk-container-id-2 pre{padding: 0;}#sk-container-id-2 div.sk-toggleable {background-color: white;}#sk-container-id-2 label.sk-toggleable__label {cursor: pointer;display: block;width: 100%;margin-bottom: 0;padding: 0.3em;box-sizing: border-box;text-align: center;}#sk-container-id-2 label.sk-toggleable__label-arrow:before {content: \"▸\";float: left;margin-right: 0.25em;color: #696969;}#sk-container-id-2 label.sk-toggleable__label-arrow:hover:before {color: black;}#sk-container-id-2 div.sk-estimator:hover label.sk-toggleable__label-arrow:before {color: black;}#sk-container-id-2 div.sk-toggleable__content {max-height: 0;max-width: 0;overflow: hidden;text-align: left;background-color: #f0f8ff;}#sk-container-id-2 div.sk-toggleable__content pre {margin: 0.2em;color: black;border-radius: 0.25em;background-color: #f0f8ff;}#sk-container-id-2 input.sk-toggleable__control:checked~div.sk-toggleable__content {max-height: 200px;max-width: 100%;overflow: auto;}#sk-container-id-2 input.sk-toggleable__control:checked~label.sk-toggleable__label-arrow:before {content: \"▾\";}#sk-container-id-2 div.sk-estimator input.sk-toggleable__control:checked~label.sk-toggleable__label {background-color: #d4ebff;}#sk-container-id-2 div.sk-label input.sk-toggleable__control:checked~label.sk-toggleable__label {background-color: #d4ebff;}#sk-container-id-2 input.sk-hidden--visually {border: 0;clip: rect(1px 1px 1px 1px);clip: rect(1px, 1px, 1px, 1px);height: 1px;margin: -1px;overflow: hidden;padding: 0;position: absolute;width: 1px;}#sk-container-id-2 div.sk-estimator {font-family: monospace;background-color: #f0f8ff;border: 1px dotted black;border-radius: 0.25em;box-sizing: border-box;margin-bottom: 0.5em;}#sk-container-id-2 div.sk-estimator:hover {background-color: #d4ebff;}#sk-container-id-2 div.sk-parallel-item::after {content: \"\";width: 100%;border-bottom: 1px solid gray;flex-grow: 1;}#sk-container-id-2 div.sk-label:hover label.sk-toggleable__label {background-color: #d4ebff;}#sk-container-id-2 div.sk-serial::before {content: \"\";position: absolute;border-left: 1px solid gray;box-sizing: border-box;top: 0;bottom: 0;left: 50%;z-index: 0;}#sk-container-id-2 div.sk-serial {display: flex;flex-direction: column;align-items: center;background-color: white;padding-right: 0.2em;padding-left: 0.2em;position: relative;}#sk-container-id-2 div.sk-item {position: relative;z-index: 1;}#sk-container-id-2 div.sk-parallel {display: flex;align-items: stretch;justify-content: center;background-color: white;position: relative;}#sk-container-id-2 div.sk-item::before, #sk-container-id-2 div.sk-parallel-item::before {content: \"\";position: absolute;border-left: 1px solid gray;box-sizing: border-box;top: 0;bottom: 0;left: 50%;z-index: -1;}#sk-container-id-2 div.sk-parallel-item {display: flex;flex-direction: column;z-index: 1;position: relative;background-color: white;}#sk-container-id-2 div.sk-parallel-item:first-child::after {align-self: flex-end;width: 50%;}#sk-container-id-2 div.sk-parallel-item:last-child::after {align-self: flex-start;width: 50%;}#sk-container-id-2 div.sk-parallel-item:only-child::after {width: 0;}#sk-container-id-2 div.sk-dashed-wrapped {border: 1px dashed gray;margin: 0 0.4em 0.5em 0.4em;box-sizing: border-box;padding-bottom: 0.4em;background-color: white;}#sk-container-id-2 div.sk-label label {font-family: monospace;font-weight: bold;display: inline-block;line-height: 1.2em;}#sk-container-id-2 div.sk-label-container {text-align: center;}#sk-container-id-2 div.sk-container {/* jupyter's `normalize.less` sets `[hidden] { display: none; }` but bootstrap.min.css set `[hidden] { display: none !important; }` so we also need the `!important` here to be able to override the default hidden behavior on the sphinx rendered scikit-learn.org. See: https://github.com/scikit-learn/scikit-learn/issues/21755 */display: inline-block !important;position: relative;}#sk-container-id-2 div.sk-text-repr-fallback {display: none;}</style><div id=\"sk-container-id-2\" class=\"sk-top-container\"><div class=\"sk-text-repr-fallback\"><pre>KNeighborsClassifier(n_neighbors=2)</pre><b>In a Jupyter environment, please rerun this cell to show the HTML representation or trust the notebook. <br />On GitHub, the HTML representation is unable to render, please try loading this page with nbviewer.org.</b></div><div class=\"sk-container\" hidden><div class=\"sk-item\"><div class=\"sk-estimator sk-toggleable\"><input class=\"sk-toggleable__control sk-hidden--visually\" id=\"sk-estimator-id-2\" type=\"checkbox\" checked><label for=\"sk-estimator-id-2\" class=\"sk-toggleable__label sk-toggleable__label-arrow\">KNeighborsClassifier</label><div class=\"sk-toggleable__content\"><pre>KNeighborsClassifier(n_neighbors=2)</pre></div></div></div></div></div>"
      ],
      "text/plain": [
       "KNeighborsClassifier(n_neighbors=2)"
      ]
     },
     "execution_count": 5,
     "metadata": {},
     "output_type": "execute_result"
    }
   ],
   "source": [
    "# For comparison, let's also train the model with the K-nearest-neighbor algorithm (Scikit-learn) using our features (X_train) and labels (y_train)\n",
    "model_knn = KNeighborsClassifier(n_neighbors=2)\n",
    "model_knn.fit(X_train, y_train.values.ravel())"
   ]
  },
  {
   "cell_type": "code",
   "execution_count": 6,
   "metadata": {},
   "outputs": [
    {
     "data": {
      "text/html": [
       "<div>\n",
       "<style scoped>\n",
       "    .dataframe tbody tr th:only-of-type {\n",
       "        vertical-align: middle;\n",
       "    }\n",
       "\n",
       "    .dataframe tbody tr th {\n",
       "        vertical-align: top;\n",
       "    }\n",
       "\n",
       "    .dataframe thead th {\n",
       "        text-align: right;\n",
       "    }\n",
       "</style>\n",
       "<table border=\"1\" class=\"dataframe\">\n",
       "  <thead>\n",
       "    <tr style=\"text-align: right;\">\n",
       "      <th></th>\n",
       "      <th>type</th>\n",
       "      <th>fixed_acidity</th>\n",
       "      <th>volatile_acidity</th>\n",
       "      <th>citric_acid</th>\n",
       "      <th>residual_sugar</th>\n",
       "      <th>chlorides</th>\n",
       "      <th>free_sulfur_dioxide</th>\n",
       "      <th>total_sulfur_dioxide</th>\n",
       "      <th>density</th>\n",
       "      <th>ph</th>\n",
       "      <th>sulphates</th>\n",
       "      <th>alcohol</th>\n",
       "    </tr>\n",
       "  </thead>\n",
       "  <tbody>\n",
       "    <tr>\n",
       "      <th>0</th>\n",
       "      <td>0</td>\n",
       "      <td>7.5</td>\n",
       "      <td>0.170</td>\n",
       "      <td>0.71</td>\n",
       "      <td>11.8</td>\n",
       "      <td>0.038</td>\n",
       "      <td>52.0</td>\n",
       "      <td>148.0</td>\n",
       "      <td>0.99801</td>\n",
       "      <td>3.03</td>\n",
       "      <td>0.46</td>\n",
       "      <td>8.9</td>\n",
       "    </tr>\n",
       "    <tr>\n",
       "      <th>1</th>\n",
       "      <td>1</td>\n",
       "      <td>8.5</td>\n",
       "      <td>0.655</td>\n",
       "      <td>0.49</td>\n",
       "      <td>6.1</td>\n",
       "      <td>0.122</td>\n",
       "      <td>34.0</td>\n",
       "      <td>151.0</td>\n",
       "      <td>1.00100</td>\n",
       "      <td>3.31</td>\n",
       "      <td>1.14</td>\n",
       "      <td>9.3</td>\n",
       "    </tr>\n",
       "    <tr>\n",
       "      <th>2</th>\n",
       "      <td>1</td>\n",
       "      <td>5.0</td>\n",
       "      <td>0.380</td>\n",
       "      <td>0.01</td>\n",
       "      <td>1.6</td>\n",
       "      <td>0.048</td>\n",
       "      <td>26.0</td>\n",
       "      <td>60.0</td>\n",
       "      <td>0.99084</td>\n",
       "      <td>3.70</td>\n",
       "      <td>0.75</td>\n",
       "      <td>14.0</td>\n",
       "    </tr>\n",
       "    <tr>\n",
       "      <th>4</th>\n",
       "      <td>0</td>\n",
       "      <td>7.4</td>\n",
       "      <td>0.250</td>\n",
       "      <td>0.49</td>\n",
       "      <td>1.1</td>\n",
       "      <td>0.042</td>\n",
       "      <td>35.0</td>\n",
       "      <td>156.0</td>\n",
       "      <td>0.99170</td>\n",
       "      <td>3.13</td>\n",
       "      <td>0.55</td>\n",
       "      <td>11.3</td>\n",
       "    </tr>\n",
       "    <tr>\n",
       "      <th>6</th>\n",
       "      <td>0</td>\n",
       "      <td>6.2</td>\n",
       "      <td>0.280</td>\n",
       "      <td>0.45</td>\n",
       "      <td>7.5</td>\n",
       "      <td>0.045</td>\n",
       "      <td>46.0</td>\n",
       "      <td>203.0</td>\n",
       "      <td>0.99573</td>\n",
       "      <td>3.26</td>\n",
       "      <td>0.46</td>\n",
       "      <td>9.2</td>\n",
       "    </tr>\n",
       "    <tr>\n",
       "      <th>...</th>\n",
       "      <td>...</td>\n",
       "      <td>...</td>\n",
       "      <td>...</td>\n",
       "      <td>...</td>\n",
       "      <td>...</td>\n",
       "      <td>...</td>\n",
       "      <td>...</td>\n",
       "      <td>...</td>\n",
       "      <td>...</td>\n",
       "      <td>...</td>\n",
       "      <td>...</td>\n",
       "      <td>...</td>\n",
       "    </tr>\n",
       "    <tr>\n",
       "      <th>5323</th>\n",
       "      <td>0</td>\n",
       "      <td>7.0</td>\n",
       "      <td>0.220</td>\n",
       "      <td>0.29</td>\n",
       "      <td>8.9</td>\n",
       "      <td>0.050</td>\n",
       "      <td>24.0</td>\n",
       "      <td>90.0</td>\n",
       "      <td>0.99556</td>\n",
       "      <td>3.29</td>\n",
       "      <td>0.46</td>\n",
       "      <td>9.8</td>\n",
       "    </tr>\n",
       "    <tr>\n",
       "      <th>5324</th>\n",
       "      <td>0</td>\n",
       "      <td>7.1</td>\n",
       "      <td>0.260</td>\n",
       "      <td>0.37</td>\n",
       "      <td>5.5</td>\n",
       "      <td>0.025</td>\n",
       "      <td>31.0</td>\n",
       "      <td>105.0</td>\n",
       "      <td>0.99082</td>\n",
       "      <td>3.06</td>\n",
       "      <td>0.33</td>\n",
       "      <td>12.6</td>\n",
       "    </tr>\n",
       "    <tr>\n",
       "      <th>5326</th>\n",
       "      <td>0</td>\n",
       "      <td>6.8</td>\n",
       "      <td>0.340</td>\n",
       "      <td>0.44</td>\n",
       "      <td>6.6</td>\n",
       "      <td>0.052</td>\n",
       "      <td>28.0</td>\n",
       "      <td>156.0</td>\n",
       "      <td>0.99550</td>\n",
       "      <td>3.14</td>\n",
       "      <td>0.41</td>\n",
       "      <td>9.6</td>\n",
       "    </tr>\n",
       "    <tr>\n",
       "      <th>5327</th>\n",
       "      <td>1</td>\n",
       "      <td>12.2</td>\n",
       "      <td>0.480</td>\n",
       "      <td>0.54</td>\n",
       "      <td>2.6</td>\n",
       "      <td>0.085</td>\n",
       "      <td>19.0</td>\n",
       "      <td>64.0</td>\n",
       "      <td>1.00000</td>\n",
       "      <td>3.10</td>\n",
       "      <td>0.61</td>\n",
       "      <td>10.5</td>\n",
       "    </tr>\n",
       "    <tr>\n",
       "      <th>5328</th>\n",
       "      <td>0</td>\n",
       "      <td>6.9</td>\n",
       "      <td>0.280</td>\n",
       "      <td>0.33</td>\n",
       "      <td>1.2</td>\n",
       "      <td>0.039</td>\n",
       "      <td>16.0</td>\n",
       "      <td>98.0</td>\n",
       "      <td>0.99040</td>\n",
       "      <td>3.07</td>\n",
       "      <td>0.39</td>\n",
       "      <td>11.7</td>\n",
       "    </tr>\n",
       "  </tbody>\n",
       "</table>\n",
       "<p>4264 rows × 12 columns</p>\n",
       "</div>"
      ],
      "text/plain": [
       "      type  fixed_acidity  volatile_acidity  citric_acid  residual_sugar  \\\n",
       "0        0            7.5             0.170         0.71            11.8   \n",
       "1        1            8.5             0.655         0.49             6.1   \n",
       "2        1            5.0             0.380         0.01             1.6   \n",
       "4        0            7.4             0.250         0.49             1.1   \n",
       "6        0            6.2             0.280         0.45             7.5   \n",
       "...    ...            ...               ...          ...             ...   \n",
       "5323     0            7.0             0.220         0.29             8.9   \n",
       "5324     0            7.1             0.260         0.37             5.5   \n",
       "5326     0            6.8             0.340         0.44             6.6   \n",
       "5327     1           12.2             0.480         0.54             2.6   \n",
       "5328     0            6.9             0.280         0.33             1.2   \n",
       "\n",
       "      chlorides  free_sulfur_dioxide  total_sulfur_dioxide  density    ph  \\\n",
       "0         0.038                 52.0                 148.0  0.99801  3.03   \n",
       "1         0.122                 34.0                 151.0  1.00100  3.31   \n",
       "2         0.048                 26.0                  60.0  0.99084  3.70   \n",
       "4         0.042                 35.0                 156.0  0.99170  3.13   \n",
       "6         0.045                 46.0                 203.0  0.99573  3.26   \n",
       "...         ...                  ...                   ...      ...   ...   \n",
       "5323      0.050                 24.0                  90.0  0.99556  3.29   \n",
       "5324      0.025                 31.0                 105.0  0.99082  3.06   \n",
       "5326      0.052                 28.0                 156.0  0.99550  3.14   \n",
       "5327      0.085                 19.0                  64.0  1.00000  3.10   \n",
       "5328      0.039                 16.0                  98.0  0.99040  3.07   \n",
       "\n",
       "      sulphates  alcohol  \n",
       "0          0.46      8.9  \n",
       "1          1.14      9.3  \n",
       "2          0.75     14.0  \n",
       "4          0.55     11.3  \n",
       "6          0.46      9.2  \n",
       "...         ...      ...  \n",
       "5323       0.46      9.8  \n",
       "5324       0.33     12.6  \n",
       "5326       0.41      9.6  \n",
       "5327       0.61     10.5  \n",
       "5328       0.39     11.7  \n",
       "\n",
       "[4264 rows x 12 columns]"
      ]
     },
     "execution_count": 6,
     "metadata": {},
     "output_type": "execute_result"
    }
   ],
   "source": [
    "X_train"
   ]
  },
  {
   "cell_type": "code",
   "execution_count": 7,
   "metadata": {},
   "outputs": [
    {
     "data": {
      "text/html": [
       "<div>\n",
       "<style scoped>\n",
       "    .dataframe tbody tr th:only-of-type {\n",
       "        vertical-align: middle;\n",
       "    }\n",
       "\n",
       "    .dataframe tbody tr th {\n",
       "        vertical-align: top;\n",
       "    }\n",
       "\n",
       "    .dataframe thead th {\n",
       "        text-align: right;\n",
       "    }\n",
       "</style>\n",
       "<table border=\"1\" class=\"dataframe\">\n",
       "  <thead>\n",
       "    <tr style=\"text-align: right;\">\n",
       "      <th></th>\n",
       "      <th>quality</th>\n",
       "    </tr>\n",
       "  </thead>\n",
       "  <tbody>\n",
       "    <tr>\n",
       "      <th>0</th>\n",
       "      <td>5</td>\n",
       "    </tr>\n",
       "    <tr>\n",
       "      <th>1</th>\n",
       "      <td>5</td>\n",
       "    </tr>\n",
       "    <tr>\n",
       "      <th>2</th>\n",
       "      <td>6</td>\n",
       "    </tr>\n",
       "    <tr>\n",
       "      <th>4</th>\n",
       "      <td>5</td>\n",
       "    </tr>\n",
       "    <tr>\n",
       "      <th>6</th>\n",
       "      <td>6</td>\n",
       "    </tr>\n",
       "    <tr>\n",
       "      <th>...</th>\n",
       "      <td>...</td>\n",
       "    </tr>\n",
       "    <tr>\n",
       "      <th>5323</th>\n",
       "      <td>6</td>\n",
       "    </tr>\n",
       "    <tr>\n",
       "      <th>5324</th>\n",
       "      <td>8</td>\n",
       "    </tr>\n",
       "    <tr>\n",
       "      <th>5326</th>\n",
       "      <td>5</td>\n",
       "    </tr>\n",
       "    <tr>\n",
       "      <th>5327</th>\n",
       "      <td>6</td>\n",
       "    </tr>\n",
       "    <tr>\n",
       "      <th>5328</th>\n",
       "      <td>6</td>\n",
       "    </tr>\n",
       "  </tbody>\n",
       "</table>\n",
       "<p>4264 rows × 1 columns</p>\n",
       "</div>"
      ],
      "text/plain": [
       "      quality\n",
       "0           5\n",
       "1           5\n",
       "2           6\n",
       "4           5\n",
       "6           6\n",
       "...       ...\n",
       "5323        6\n",
       "5324        8\n",
       "5326        5\n",
       "5327        6\n",
       "5328        6\n",
       "\n",
       "[4264 rows x 1 columns]"
      ]
     },
     "execution_count": 7,
     "metadata": {},
     "output_type": "execute_result"
    }
   ],
   "source": [
    "y_train"
   ]
  },
  {
   "cell_type": "code",
   "execution_count": 8,
   "metadata": {},
   "outputs": [
    {
     "data": {
      "text/plain": [
       "type                    4264\n",
       "fixed_acidity           4264\n",
       "volatile_acidity        4264\n",
       "citric_acid             4264\n",
       "residual_sugar          4264\n",
       "chlorides               4264\n",
       "free_sulfur_dioxide     4264\n",
       "total_sulfur_dioxide    4264\n",
       "density                 4264\n",
       "ph                      4264\n",
       "sulphates               4264\n",
       "alcohol                 4264\n",
       "dtype: int64"
      ]
     },
     "execution_count": 8,
     "metadata": {},
     "output_type": "execute_result"
    }
   ],
   "source": [
    "# As you can see, ca. 80% (4263/5328 rows) of the data is training data\n",
    "X_train.count()"
   ]
  },
  {
   "cell_type": "code",
   "execution_count": 9,
   "metadata": {},
   "outputs": [
    {
     "data": {
      "text/plain": [
       "type                    1067\n",
       "fixed_acidity           1067\n",
       "volatile_acidity        1067\n",
       "citric_acid             1067\n",
       "residual_sugar          1067\n",
       "chlorides               1067\n",
       "free_sulfur_dioxide     1067\n",
       "total_sulfur_dioxide    1067\n",
       "density                 1067\n",
       "ph                      1067\n",
       "sulphates               1067\n",
       "alcohol                 1067\n",
       "dtype: int64"
      ]
     },
     "execution_count": 9,
     "metadata": {},
     "output_type": "execute_result"
    }
   ],
   "source": [
    "# As you can see, ca. 20% (1066/5328 rows) of the data is test data\n",
    "X_test.count()\n"
   ]
  },
  {
   "cell_type": "code",
   "execution_count": 10,
   "metadata": {},
   "outputs": [
    {
     "name": "stdout",
     "output_type": "stream",
     "text": [
      "3 {'precision': 0.125, 'recall': 0.2, 'f1-score': 0.15384615384615385, 'support': 5}\n",
      "4 {'precision': 0.08823529411764706, 'recall': 0.15, 'f1-score': 0.11111111111111112, 'support': 40}\n",
      "5 {'precision': 0.40535372848948376, 'recall': 0.6272189349112426, 'f1-score': 0.49245063879210216, 'support': 338}\n",
      "6 {'precision': 0.4492753623188406, 'recall': 0.40086206896551724, 'f1-score': 0.4236902050113895, 'support': 464}\n",
      "7 {'precision': 0.35185185185185186, 'recall': 0.10106382978723404, 'f1-score': 0.15702479338842973, 'support': 188}\n",
      "8 {'precision': 0.0, 'recall': 0.0, 'f1-score': 0.0, 'support': 31}\n",
      "9 {'precision': 0.0, 'recall': 0.0, 'f1-score': 0.0, 'support': 1}\n",
      "accuracy 0.39737582005623245\n",
      "macro avg {'precision': 0.20281660525397477, 'recall': 0.21130640480914195, 'f1-score': 0.19116041459274088, 'support': 1067}\n",
      "weighted avg {'precision': 0.3896681239533661, 'recall': 0.39737582005623245, 'f1-score': 0.372797476483332, 'support': 1067}\n",
      "3 {'precision': 0.0, 'recall': 0.0, 'f1-score': 0.0, 'support': 5}\n",
      "4 {'precision': 0.5, 'recall': 0.075, 'f1-score': 0.13043478260869565, 'support': 40}\n",
      "5 {'precision': 0.6225895316804407, 'recall': 0.6686390532544378, 'f1-score': 0.644793152639087, 'support': 338}\n",
      "6 {'precision': 0.5608108108108109, 'recall': 0.7155172413793104, 'f1-score': 0.6287878787878789, 'support': 464}\n",
      "7 {'precision': 0.6019417475728155, 'recall': 0.32978723404255317, 'f1-score': 0.4261168384879725, 'support': 188}\n",
      "8 {'precision': 1.0, 'recall': 0.03225806451612903, 'f1-score': 0.0625, 'support': 31}\n",
      "9 {'precision': 0.0, 'recall': 0.0, 'f1-score': 0.0, 'support': 1}\n",
      "accuracy 0.584817244611059\n",
      "macro avg {'precision': 0.46933458429486674, 'recall': 0.2601716561703472, 'f1-score': 0.27037609321766204, 'support': 1067}\n",
      "weighted avg {'precision': 0.5949545702604447, 'recall': 0.584817244611059, 'f1-score': 0.5594775241702661, 'support': 1067}\n"
     ]
    },
    {
     "name": "stderr",
     "output_type": "stream",
     "text": [
      "UndefinedMetricWarning: Precision and F-score are ill-defined and being set to 0.0 in labels with no predicted samples. Use `zero_division` parameter to control this behavior.\n",
      "UndefinedMetricWarning: Precision and F-score are ill-defined and being set to 0.0 in labels with no predicted samples. Use `zero_division` parameter to control this behavior.\n",
      "UndefinedMetricWarning: Precision and F-score are ill-defined and being set to 0.0 in labels with no predicted samples. Use `zero_division` parameter to control this behavior.\n",
      "UndefinedMetricWarning: Precision and F-score are ill-defined and being set to 0.0 in labels with no predicted samples. Use `zero_division` parameter to control this behavior.\n",
      "UndefinedMetricWarning: Precision and F-score are ill-defined and being set to 0.0 in labels with no predicted samples. Use `zero_division` parameter to control this behavior.\n",
      "UndefinedMetricWarning: Precision and F-score are ill-defined and being set to 0.0 in labels with no predicted samples. Use `zero_division` parameter to control this behavior.\n"
     ]
    }
   ],
   "source": [
    "# Evaluate the model performance using features from test set (X_test)\n",
    "y_pred_knn = model_knn.predict(X_test)\n",
    "y_pred_rf = model_rf.predict(X_test)\n",
    "\n",
    "# Compare predictions made by the model (y_pred) with the labels in the test set (y_test) for the knn algorithm\n",
    "metrics_knn = classification_report(y_test, y_pred_knn, output_dict=True)\n",
    "results_knn = confusion_matrix(y_test, y_pred_knn)\n",
    "\n",
    "# Compare with random forest algorithm\n",
    "metrics_rf = classification_report(y_test, y_pred_rf, output_dict=True)\n",
    "results_rf = confusion_matrix(y_test, y_pred_rf)\n",
    "\n",
    "metricslist = [metrics_knn, metrics_rf]\n",
    "\n",
    "# Print the metrics \n",
    "for metrics in metricslist:\n",
    "    for metric in metrics:\n",
    "        print(metric, metrics[metric])"
   ]
  },
  {
   "cell_type": "code",
   "execution_count": 11,
   "metadata": {},
   "outputs": [
    {
     "data": {
      "image/png": "[encoded data removed]",
      "text/plain": [
       "<Figure size 640x480 with 2 Axes>"
      ]
     },
     "metadata": {},
     "output_type": "display_data"
    }
   ],
   "source": [
    "# Create confusion matrix that shows true values vs predicted values\n",
    "df_cm_knn = pd.DataFrame(results_knn, \n",
    "                     [\"True Quality 3\", \"True Quality 4\", \"True Quality 5\", \"True Quality 6\", \"True Quality 7\", \"True Quality 8\", \"True Quality 9\"],\n",
    "                     [\"Pred Quality 3\", \"Pred Quality 4\", \"Pred Quality 5\", \"Pred Quality 6\", \"Pred Quality 7\", \"Pred Quality 8\", \"Pred Quality 9\"]\n",
    "                    )\n",
    "\n",
    "cm_knn = sns.heatmap(df_cm_knn, annot=True)\n",
    "fig_knn = cm_knn.get_figure()"
   ]
  },
  {
   "cell_type": "code",
   "execution_count": 12,
   "metadata": {},
   "outputs": [
    {
     "data": {
      "image/png": "[encoded data removed]",
      "text/plain": [
       "<Figure size 640x480 with 2 Axes>"
      ]
     },
     "metadata": {},
     "output_type": "display_data"
    }
   ],
   "source": [
    "# Create confusion matrix that shows true values vs predicted values\n",
    "df_cm_rf = pd.DataFrame(results_rf, \n",
    "                     [\"True Quality 3\", \"True Quality 4\", \"True Quality 5\", \"True Quality 6\", \"True Quality 7\", \"True Quality 8\", \"True Quality 9\"],\n",
    "                     [\"Pred Quality 3\", \"Pred Quality 4\", \"Pred Quality 5\", \"Pred Quality 6\", \"Pred Quality 7\", \"Pred Quality 8\", \"Pred Quality 9\"]\n",
    "                    )\n",
    "\n",
    "cm_rf = sns.heatmap(df_cm_rf, annot=True)\n",
    "fig_rf = cm_rf.get_figure()"
   ]
  },
  {
   "cell_type": "code",
   "execution_count": 13,
   "metadata": {},
   "outputs": [
    {
     "name": "stdout",
     "output_type": "stream",
     "text": [
      "Connected. Call `.close()` to terminate connection gracefully.\n"
     ]
    },
    {
     "name": "stderr",
     "output_type": "stream",
     "text": [
      "Uploading: 100.000%|██████████| 34295/34295 elapsed<00:02 remaining<00:001,  3.62it/s]\n",
      "Uploading: 100.000%|██████████| 24634689/24634689 elapsed<00:53 remaining<00:0062it/s]\n",
      "Uploading: 100.000%|██████████| 32435/32435 elapsed<00:01 remaining<00:001,  3.62it/s]\n",
      "Uploading: 100.000%|██████████| 945830/945830 elapsed<00:03 remaining<00:00  3.62it/s]\n",
      "Uploading: 100.000%|██████████| 1066/1066 elapsed<00:01 remaining<00:002:24, 36.08s/it]\n",
      "Model export complete: 100%|██████████| 6/6 [01:08<00:00, 11.35s/it]                   "
     ]
    },
    {
     "name": "stdout",
     "output_type": "stream",
     "text": [
      "Model created, explore it at https://c.app.hopsworks.ai:443/p/193689/models/wine_model_rf/4\n"
     ]
    },
    {
     "name": "stderr",
     "output_type": "stream",
     "text": [
      "\n"
     ]
    },
    {
     "data": {
      "text/plain": [
       "Model(name: 'wine_model_rf', version: 4)"
      ]
     },
     "execution_count": 13,
     "metadata": {},
     "output_type": "execute_result"
    }
   ],
   "source": [
    "# Get an object for model registry from Hopsworks\n",
    "mr = project.get_model_registry()\n",
    "\n",
    "# Create folder to store wine model if it does not exist\n",
    "model_dir = \"wine_model\"\n",
    "if os.path.isdir(model_dir) == False:\n",
    "    os.mkdir(model_dir)\n",
    "\n",
    "# Save model and conusfion matrix for rf to the correct folder. Both will be uploaded to model registry in Hopsworks\n",
    "joblib.dump(model_rf, model_dir + \"/wine_model_rf.pkl\")\n",
    "fig_rf.savefig(model_dir + \"/confusion_matrix_rf.png\")\n",
    "\n",
    "# Specify schema of the model \n",
    "input_schema = Schema(X_train)\n",
    "output_schema = Schema(y_train)\n",
    "model_schema = ModelSchema(input_schema, output_schema)\n",
    "\n",
    "# Create model in the model registry that includes the model name, metrics, schema and description\n",
    "wine_model = mr.python.create_model(\n",
    "    name=\"wine_model_rf\",\n",
    "    metrics={\"accuray:\" : metrics[\"accuracy\"]},\n",
    "    model_schema=model_schema,\n",
    "    description=\"Wine Quality Predictor\"\n",
    ")\n",
    "\n",
    "# Upload model to model registry with all files in the folder\n",
    "wine_model.save(model_dir)\n",
    "\n"
   ]
  }
 ],
 "metadata": {
  "kernelspec": {
   "display_name": "scalableML",
   "language": "python",
   "name": "python3"
  },
  "language_info": {
   "codemirror_mode": {
    "name": "ipython",
    "version": 3
   },
   "file_extension": ".py",
   "mimetype": "text/x-python",
   "name": "python",
   "nbconvert_exporter": "python",
   "pygments_lexer": "ipython3",
   "version": "3.10.13"
  }
 },
 "nbformat": 4,
 "nbformat_minor": 2
}
